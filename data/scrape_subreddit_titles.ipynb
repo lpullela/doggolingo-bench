{
 "cells": [
  {
   "cell_type": "code",
   "execution_count": 2,
   "metadata": {},
   "outputs": [],
   "source": [
    "from bs4 import BeautifulSoup\n",
    "import pandas as pd\n",
    "import numpy as np\n",
    "import requests\n"
   ]
  },
  {
   "cell_type": "code",
   "execution_count": null,
   "metadata": {},
   "outputs": [],
   "source": [
    "url_dict = {\n",
    "            'cat': 'https://zissou.infosci.cornell.edu/convokit/datasets/subreddit-corpus/corpus-zipped/cats3~-~changemyview/',\n",
    "            'dog': 'https://zissou.infosci.cornell.edu/convokit/datasets/subreddit-corpus/corpus-zipped/diyaudioswap~-~dogecoin/',\n",
    "            'pet': 'https://zissou.infosci.cornell.edu/convokit/datasets/subreddit-corpus/corpus-zipped/Pets4Adoption~-~PewdiepieSubmissions/'\n",
    "            }\n"
   ]
  },
  {
   "cell_type": "code",
   "execution_count": 27,
   "metadata": {},
   "outputs": [],
   "source": [
    "link_names = []\n",
    "\n",
    "for key, url in url_dict.items():\n",
    "    r = requests.get(url)\n",
    "    soup = BeautifulSoup(r.content, 'html')\n",
    "    links = [a_tag.text for a_tag in soup.find_all('a') if a_tag.text.lower().startswith(key) and not a_tag.text.lower().startswith('doge') and not a_tag.text.lower().startswith('pett')]\n",
    "    link_names.extend(links)\n"
   ]
  },
  {
   "cell_type": "code",
   "execution_count": 39,
   "metadata": {},
   "outputs": [],
   "source": [
    "def get_title(text):\n",
    "    lst = text.split('.')\n",
    "    return lst[0]\n",
    "\n",
    "link_df = pd.DataFrame(link_names)\n",
    "link_df['subreddit_title'] = link_df[0].apply(get_title)\n",
    "link_df = link_df.drop(columns=0)"
   ]
  },
  {
   "cell_type": "code",
   "execution_count": 40,
   "metadata": {},
   "outputs": [],
   "source": [
    "link_df.to_csv(\"subreddit_titles.csv\", index=False)"
   ]
  },
  {
   "cell_type": "code",
   "execution_count": null,
   "metadata": {},
   "outputs": [],
   "source": []
  }
 ],
 "metadata": {
  "kernelspec": {
   "display_name": "base",
   "language": "python",
   "name": "python3"
  },
  "language_info": {
   "codemirror_mode": {
    "name": "ipython",
    "version": 3
   },
   "file_extension": ".py",
   "mimetype": "text/x-python",
   "name": "python",
   "nbconvert_exporter": "python",
   "pygments_lexer": "ipython3",
   "version": "3.12.2"
  }
 },
 "nbformat": 4,
 "nbformat_minor": 2
}
