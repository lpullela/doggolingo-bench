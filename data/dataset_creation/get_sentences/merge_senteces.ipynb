{
 "cells": [
  {
   "cell_type": "code",
   "execution_count": 56,
   "metadata": {},
   "outputs": [],
   "source": [
    "import numpy as np\n",
    "import pandas as pd"
   ]
  },
  {
   "cell_type": "code",
   "execution_count": 57,
   "metadata": {},
   "outputs": [],
   "source": [
    "slow_df = pd.DataFrame(pd.read_csv('slow_words_with_sentences.csv'))\n",
    "fast_df = pd.DataFrame(pd.read_csv('words_with_sentences.csv'))"
   ]
  },
  {
   "cell_type": "code",
   "execution_count": 58,
   "metadata": {},
   "outputs": [
    {
     "data": {
      "text/html": [
       "<div>\n",
       "<style scoped>\n",
       "    .dataframe tbody tr th:only-of-type {\n",
       "        vertical-align: middle;\n",
       "    }\n",
       "\n",
       "    .dataframe tbody tr th {\n",
       "        vertical-align: top;\n",
       "    }\n",
       "\n",
       "    .dataframe thead th {\n",
       "        text-align: right;\n",
       "    }\n",
       "</style>\n",
       "<table border=\"1\" class=\"dataframe\">\n",
       "  <thead>\n",
       "    <tr style=\"text-align: right;\">\n",
       "      <th></th>\n",
       "      <th>word</th>\n",
       "      <th>sentence</th>\n",
       "    </tr>\n",
       "  </thead>\n",
       "  <tbody>\n",
       "    <tr>\n",
       "      <th>0</th>\n",
       "      <td>abnerdawg</td>\n",
       "      <td>@abnerdawg being a good doggie</td>\n",
       "    </tr>\n",
       "    <tr>\n",
       "      <th>1</th>\n",
       "      <td>aborable</td>\n",
       "      <td>Why do people think it's aborable when a giant...</td>\n",
       "    </tr>\n",
       "    <tr>\n",
       "      <th>2</th>\n",
       "      <td>adobtable</td>\n",
       "      <td>Downton Tabby' the Downton Abbey Intro Made Be...</td>\n",
       "    </tr>\n",
       "    <tr>\n",
       "      <th>3</th>\n",
       "      <td>adogsdream</td>\n",
       "      <td>I was searching for dog grooming and training ...</td>\n",
       "    </tr>\n",
       "    <tr>\n",
       "      <th>4</th>\n",
       "      <td>adoopted</td>\n",
       "      <td>I think I'm adoopted.</td>\n",
       "    </tr>\n",
       "  </tbody>\n",
       "</table>\n",
       "</div>"
      ],
      "text/plain": [
       "         word                                           sentence\n",
       "0   abnerdawg                     @abnerdawg being a good doggie\n",
       "1    aborable  Why do people think it's aborable when a giant...\n",
       "2   adobtable  Downton Tabby' the Downton Abbey Intro Made Be...\n",
       "3  adogsdream  I was searching for dog grooming and training ...\n",
       "4    adoopted                              I think I'm adoopted."
      ]
     },
     "execution_count": 58,
     "metadata": {},
     "output_type": "execute_result"
    }
   ],
   "source": [
    "fast_df = fast_df.rename(columns = {\"context\": \"sentence\", \"matched_word\" :\"word\"})\n",
    "fast_df = fast_df.iloc[:, [1, 0]]\n",
    "fast_df.head()"
   ]
  },
  {
   "cell_type": "code",
   "execution_count": 59,
   "metadata": {},
   "outputs": [
    {
     "data": {
      "text/html": [
       "<div>\n",
       "<style scoped>\n",
       "    .dataframe tbody tr th:only-of-type {\n",
       "        vertical-align: middle;\n",
       "    }\n",
       "\n",
       "    .dataframe tbody tr th {\n",
       "        vertical-align: top;\n",
       "    }\n",
       "\n",
       "    .dataframe thead th {\n",
       "        text-align: right;\n",
       "    }\n",
       "</style>\n",
       "<table border=\"1\" class=\"dataframe\">\n",
       "  <thead>\n",
       "    <tr style=\"text-align: right;\">\n",
       "      <th></th>\n",
       "      <th>word</th>\n",
       "      <th>sentence</th>\n",
       "    </tr>\n",
       "  </thead>\n",
       "  <tbody>\n",
       "    <tr>\n",
       "      <th>0</th>\n",
       "      <td>abnerdawg</td>\n",
       "      <td>@abnerdawg being a good doggie</td>\n",
       "    </tr>\n",
       "    <tr>\n",
       "      <th>1</th>\n",
       "      <td>aborable</td>\n",
       "      <td>Why do people think it's aborable when a giant...</td>\n",
       "    </tr>\n",
       "    <tr>\n",
       "      <th>2</th>\n",
       "      <td>acrocatics</td>\n",
       "      <td>Acrocatics.</td>\n",
       "    </tr>\n",
       "    <tr>\n",
       "      <th>3</th>\n",
       "      <td>actiekatten</td>\n",
       "      <td>Oh no dogfort! It's actiekatten!</td>\n",
       "    </tr>\n",
       "    <tr>\n",
       "      <th>4</th>\n",
       "      <td>adobtable</td>\n",
       "      <td>Downton Tabby' the Downton Abbey Intro Made Be...</td>\n",
       "    </tr>\n",
       "  </tbody>\n",
       "</table>\n",
       "</div>"
      ],
      "text/plain": [
       "          word                                           sentence\n",
       "0    abnerdawg                     @abnerdawg being a good doggie\n",
       "1     aborable  Why do people think it's aborable when a giant...\n",
       "2   acrocatics                                        Acrocatics.\n",
       "3  actiekatten                   Oh no dogfort! It's actiekatten!\n",
       "4    adobtable  Downton Tabby' the Downton Abbey Intro Made Be..."
      ]
     },
     "execution_count": 59,
     "metadata": {},
     "output_type": "execute_result"
    }
   ],
   "source": [
    "slow_df.head()"
   ]
  },
  {
   "cell_type": "code",
   "execution_count": 60,
   "metadata": {},
   "outputs": [],
   "source": [
    "combined_df = pd.concat([fast_df, slow_df]).drop_duplicates()\n",
    "combined_df.to_csv('sentence_examples.csv', index=False)"
   ]
  },
  {
   "cell_type": "code",
   "execution_count": 61,
   "metadata": {},
   "outputs": [
    {
     "name": "stdout",
     "output_type": "stream",
     "text": [
      "word\n",
      "dogs        663\n",
      "hooman      204\n",
      "petzpixz     85\n",
      "dogfort      77\n",
      "hoomans      40\n",
      "           ... \n",
      "wittle        1\n",
      "wiskers       1\n",
      "wimpered      1\n",
      "wieny         1\n",
      "yappers       1\n",
      "Name: count, Length: 2038, dtype: int64\n"
     ]
    }
   ],
   "source": [
    "word_counts = combined_df[\"word\"].value_counts()\n",
    "print(word_counts)"
   ]
  },
  {
   "cell_type": "code",
   "execution_count": 62,
   "metadata": {},
   "outputs": [
    {
     "name": "stdout",
     "output_type": "stream",
     "text": [
      "count\n",
      "1      1807\n",
      "2       126\n",
      "3        37\n",
      "4        22\n",
      "5        14\n",
      "6         9\n",
      "8         4\n",
      "9         3\n",
      "16        2\n",
      "7         2\n",
      "10        2\n",
      "663       1\n",
      "204       1\n",
      "40        1\n",
      "77        1\n",
      "85        1\n",
      "12        1\n",
      "25        1\n",
      "11        1\n",
      "19        1\n",
      "13        1\n",
      "Name: count, dtype: int64\n"
     ]
    },
    {
     "data": {
      "image/png": "[encoded data removed]",
      "text/plain": [
       "<Figure size 1800x600 with 1 Axes>"
      ]
     },
     "metadata": {},
     "output_type": "display_data"
    }
   ],
   "source": [
    "import seaborn as sns\n",
    "import matplotlib.pyplot as plt\n",
    "\n",
    "freq_counts = word_counts.value_counts()\n",
    "freq_df = freq_counts.rename_axis(\"value_count\").reset_index(name=\"number_of_items\")\n",
    "freq_df.columns = ['value_count', 'number_of_items']\n",
    "\n",
    "plt.figure(figsize=(18, 6))\n",
    "sns.barplot(data=freq_df, x = 'value_count', y = \"number_of_items\")\n",
    "plt.xlabel(\"Number of Sentences\")\n",
    "plt.ylabel(\"Number of Words\")\n",
    "\n",
    "print(freq_counts)\n"
   ]
  },
  {
   "cell_type": "code",
   "execution_count": null,
   "metadata": {},
   "outputs": [],
   "source": []
  }
 ],
 "metadata": {
  "kernelspec": {
   "display_name": "base",
   "language": "python",
   "name": "python3"
  },
  "language_info": {
   "codemirror_mode": {
    "name": "ipython",
    "version": 3
   },
   "file_extension": ".py",
   "mimetype": "text/x-python",
   "name": "python",
   "nbconvert_exporter": "python",
   "pygments_lexer": "ipython3",
   "version": "3.12.2"
  }
 },
 "nbformat": 4,
 "nbformat_minor": 2
}
