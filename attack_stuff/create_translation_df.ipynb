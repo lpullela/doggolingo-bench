{
 "cells": [
  {
   "cell_type": "code",
   "execution_count": 1,
   "id": "f3025f66",
   "metadata": {},
   "outputs": [],
   "source": [
    "import pandas as pd"
   ]
  },
  {
   "cell_type": "code",
   "execution_count": 2,
   "id": "8ce92803",
   "metadata": {},
   "outputs": [],
   "source": [
    "translations = pd.read_json(\"sucessful_translations.json\")"
   ]
  },
  {
   "cell_type": "code",
   "execution_count": 3,
   "id": "da7e6afd",
   "metadata": {},
   "outputs": [],
   "source": [
    "final = pd.melt(translations, id_vars=[\"original\"], value_vars=[\"gpt-4o\", \"gpt-4o-mini\"],\n",
    "                  var_name=\"model\", value_name=\"dg_sent\")\n",
    "final = final.dropna(subset=[\"dg_sent\"])"
   ]
  },
  {
   "cell_type": "code",
   "execution_count": 4,
   "id": "edd3c609",
   "metadata": {},
   "outputs": [],
   "source": [
    "final.to_csv(\"prelim_translations.csv\")"
   ]
  },
  {
   "cell_type": "code",
   "execution_count": null,
   "id": "340ab821",
   "metadata": {},
   "outputs": [],
   "source": []
  }
 ],
 "metadata": {
  "kernelspec": {
   "display_name": "base",
   "language": "python",
   "name": "python3"
  },
  "language_info": {
   "codemirror_mode": {
    "name": "ipython",
    "version": 3
   },
   "file_extension": ".py",
   "mimetype": "text/x-python",
   "name": "python",
   "nbconvert_exporter": "python",
   "pygments_lexer": "ipython3",
   "version": "3.12.2"
  }
 },
 "nbformat": 4,
 "nbformat_minor": 5
}
