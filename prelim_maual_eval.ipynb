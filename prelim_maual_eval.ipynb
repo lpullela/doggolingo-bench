{
 "cells": [
  {
   "cell_type": "code",
   "execution_count": 3,
   "metadata": {},
   "outputs": [],
   "source": [
    "import pandas as pd\n",
    "import numpy as np"
   ]
  },
  {
   "cell_type": "code",
   "execution_count": 7,
   "metadata": {},
   "outputs": [],
   "source": [
    "llama_data = pd.read_csv('responses_output_llama.csv')\n",
    "mini_data = pd.read_csv('responses_output_mini.csv')\n",
    "regular_data = pd.read_csv('responses_output_regular.csv')\n",
    "\n",
    "llama_df = pd.DataFrame(llama_data)\n",
    "mini_df = pd.DataFrame(mini_data)\n",
    "regular_df = pd.DataFrame(regular_data)\n"
   ]
  },
  {
   "cell_type": "code",
   "execution_count": 10,
   "metadata": {},
   "outputs": [],
   "source": [
    "random_sample = llama_df.sample(n=10)\n",
    "random_words = random_sample['word']"
   ]
  },
  {
   "cell_type": "code",
   "execution_count": 15,
   "metadata": {},
   "outputs": [],
   "source": [
    "llama_random = pd.merge(random_words, llama_df, on='word', how='inner')\n",
    "mini_random = pd.merge(random_words, mini_df, on='word', how='inner')\n",
    "regular_random = pd.merge(random_words, regular_df, on='word', how='inner')"
   ]
  },
  {
   "cell_type": "code",
   "execution_count": 16,
   "metadata": {},
   "outputs": [],
   "source": [
    "llama_random.to_csv(\"llama_sample.csv\", index=False)\n",
    "mini_random.to_csv(\"mini_sample.csv\", index=False)\n",
    "regular_random.to_csv(\"regular_sample.csv\", index=False)"
   ]
  },
  {
   "cell_type": "code",
   "execution_count": null,
   "metadata": {},
   "outputs": [],
   "source": []
  }
 ],
 "metadata": {
  "kernelspec": {
   "display_name": "base",
   "language": "python",
   "name": "python3"
  },
  "language_info": {
   "codemirror_mode": {
    "name": "ipython",
    "version": 3
   },
   "file_extension": ".py",
   "mimetype": "text/x-python",
   "name": "python",
   "nbconvert_exporter": "python",
   "pygments_lexer": "ipython3",
   "version": "3.12.2"
  }
 },
 "nbformat": 4,
 "nbformat_minor": 2
}
